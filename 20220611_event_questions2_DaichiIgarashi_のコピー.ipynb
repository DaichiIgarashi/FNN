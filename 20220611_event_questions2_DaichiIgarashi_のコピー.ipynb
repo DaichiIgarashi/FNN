{
  "nbformat": 4,
  "nbformat_minor": 0,
  "metadata": {
    "colab": {
      "name": "20220611-event-questions2_DaichiIgarashi のコピー",
      "provenance": [],
      "collapsed_sections": [],
      "include_colab_link": true
    },
    "kernelspec": {
      "name": "python3",
      "display_name": "Python 3"
    }
  },
  "cells": [
    {
      "cell_type": "markdown",
      "metadata": {
        "id": "view-in-github",
        "colab_type": "text"
      },
      "source": [
        "<a href=\"https://colab.research.google.com/github/DaichiIgarashi/FNN/blob/main/20220611_event_questions2_DaichiIgarashi_%E3%81%AE%E3%82%B3%E3%83%94%E3%83%BC.ipynb\" target=\"_parent\"><img src=\"https://colab.research.google.com/assets/colab-badge.svg\" alt=\"Open In Colab\"/></a>"
      ]
    },
    {
      "cell_type": "markdown",
      "source": [
        "問題2：探索アルゴリズムの実装"
      ],
      "metadata": {
        "id": "aRk8P0CTQpcU"
      }
    },
    {
      "cell_type": "code",
      "source": [
        "def main():\n",
        "    # 昇順にソートされた配列\n",
        "    sorted_array = [1, 2, 3, 5, 12, 7890, 12345]\n",
        "    # 探索対象の番号\n",
        "    target_number = 7890\n",
        "    # 探索実行\n",
        "    target_index = serch_index(sorted_array, target_number)\n",
        "    # 結果出力\n",
        "    print(target_index)\n",
        "\n",
        "def serch_index(sorted_array, target_number):\n",
        "\n",
        "    # ここから記述\n",
        "\n",
        "    # 検索対象の番号を取得\n",
        "    target_index = len(sorted_array)//2\n",
        "\n",
        "    # 探索対象と中間の値が一致するまで繰り返す\n",
        "    while sorted_array[len(sorted_array)//2] != target_number:\n",
        "\n",
        "      # 探索対象が中間の値より小さい場合の処理\n",
        "      if target_number < sorted_array[len(sorted_array)//2]:\n",
        "        sorted_array = sorted_array[0 : len(sorted_array)//2]\n",
        "        target_index -= len(sorted_array)//2 - 1\n",
        "\n",
        "      # 探索対象が中間の値より大きい場合の処理\n",
        "      elif target_number > sorted_array[len(sorted_array)//2]:\n",
        "        sorted_array = sorted_array[len(sorted_array)//2+1 : len(sorted_array)]\n",
        "        target_index += len(sorted_array)//2 + 1\n",
        "        \n",
        "    # 検索対象の番号を返す\n",
        "    return target_index\n",
        "\n",
        "    # ここまで記述\n",
        "\n",
        "    # 探索対象が存在しない場合、-1を返却\n",
        "    return -1\n",
        "\n",
        "if __name__ == '__main__':\n",
        "    main()"
      ],
      "metadata": {
        "colab": {
          "base_uri": "https://localhost:8080/"
        },
        "id": "5NZKqVa04PJB",
        "outputId": "ad664dd8-df75-4eed-b7c3-1417f592fe53"
      },
      "execution_count": null,
      "outputs": [
        {
          "output_type": "stream",
          "name": "stdout",
          "text": [
            "5\n"
          ]
        }
      ]
    }
  ]
}